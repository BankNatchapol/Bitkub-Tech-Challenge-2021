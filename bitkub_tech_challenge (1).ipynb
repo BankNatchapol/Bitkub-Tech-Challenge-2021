{
  "nbformat": 4,
  "nbformat_minor": 0,
  "metadata": {
    "colab": {
      "name": "bitkub_tech_challenge.ipynb",
      "provenance": [],
      "collapsed_sections": []
    },
    "kernelspec": {
      "name": "python3",
      "display_name": "Python 3"
    },
    "language_info": {
      "name": "python"
    }
  },
  "cells": [
    {
      "cell_type": "code",
      "metadata": {
        "colab": {
          "base_uri": "https://localhost:8080/"
        },
        "id": "ZqBm_k9YUEDm",
        "outputId": "73ccdb62-a458-47a1-99eb-c90002482852"
      },
      "source": [
        "import requests\n",
        "import pandas as pd\n",
        "\n",
        "token = '0xEcA19B1a87442b0c25801B809bf567A6ca87B1da'\n",
        "url = f\"https://api-ropsten.etherscan.io/api?module=account&action=tokentx&address={token}&startblock=0&endblock=999999999&sort=asc&apikey=K7ST5DC6VP2Z5ZVWWD1IB3JDB5AHIEV274\"\n",
        "headers = {'content-type': 'application/json', 'User-Agent': 'curl/7.47.1'}\n",
        "response = requests.get(url, headers = headers)\n",
        "data = response.json()\n",
        "print(response)\n",
        "block_list = {token.lower():[], }\n",
        "for i in data['result']:\n",
        "  if i['from'] == token.lower():\n",
        "    block_list[token.lower()].append(i)\n",
        "\n",
        "not_list = {token.lower(), }\n",
        "last_len = 0\n",
        "#while len(not_list) != last_len :\n",
        "for o in range(10):\n",
        "  temp = block_list.copy()\n",
        "  for k in temp:\n",
        "    for f in temp[k]:\n",
        "      if f['to'] not in not_list:\n",
        "        block_list[f['to']] = []\n",
        "      \n",
        "  for i in block_list:\n",
        "    if i not in not_list:\n",
        "      for j in data['result']:\n",
        "        if j['from'] == i:\n",
        "          if j['tokenSymbol'] == 'BKTC':\n",
        "            block_list[i].append(j)\n",
        "            not_list.add(i)\n",
        "   \n",
        "for i in block_list:\n",
        "  if i not in not_list:\n",
        "    for j in data['result']:\n",
        "      if j['from'] == i:\n",
        "        block_list[i].append(j)\n",
        "        not_list.add(i)\n",
        "setx = set()\n",
        "for s in block_list:\n",
        "  for i in block_list[s]:\n",
        "    if i['tokenSymbol'] == 'BKTC':\n",
        "      setx.add(i['hash'])\n",
        "r = pd.DataFrame()\n",
        "hash = []\n",
        "fro = []\n",
        "t = []\n",
        "am = []\n",
        "for i in data['result']:\n",
        "  if i['hash'] in list(setx):\n",
        "    hash.append(i['hash'])\n",
        "    fro.append(i['from'])\n",
        "    t.append(i['to'])\n",
        "    am.append(int(int(i['value'])/(10**18)))\n",
        "r['TX Hash'] = hash\n",
        "r['from'] = fro\n",
        "r['to'] = t\n",
        "r['amount'] = am\n",
        "print(r)"
      ],
      "execution_count": 30,
      "outputs": [
        {
          "output_type": "stream",
          "text": [
            "<Response [200]>\n",
            "                                             TX Hash  ... amount\n",
            "0  0x905cdb49db7b8804830017e3f3d4a6d80f30c15f2ef8...  ...     10\n",
            "1  0xde88b7bbe2d12527a53d3ce4c0f9c980da5683fd1f5e...  ...      5\n",
            "2  0x455354c462770b8dd8a72952afaa61cd57b99d113436...  ...      5\n",
            "\n",
            "[3 rows x 4 columns]\n"
          ],
          "name": "stdout"
        }
      ]
    },
    {
      "cell_type": "code",
      "metadata": {
        "colab": {
          "base_uri": "https://localhost:8080/",
          "height": 136
        },
        "id": "hcZmTc0aUKl3",
        "outputId": "a7dc3401-a96d-438b-825f-9abfa675385a"
      },
      "source": [
        ""
      ],
      "execution_count": 28,
      "outputs": [
        {
          "output_type": "execute_result",
          "data": {
            "text/html": [
              "<div>\n",
              "<style scoped>\n",
              "    .dataframe tbody tr th:only-of-type {\n",
              "        vertical-align: middle;\n",
              "    }\n",
              "\n",
              "    .dataframe tbody tr th {\n",
              "        vertical-align: top;\n",
              "    }\n",
              "\n",
              "    .dataframe thead th {\n",
              "        text-align: right;\n",
              "    }\n",
              "</style>\n",
              "<table border=\"1\" class=\"dataframe\">\n",
              "  <thead>\n",
              "    <tr style=\"text-align: right;\">\n",
              "      <th></th>\n",
              "      <th>TX Hash</th>\n",
              "      <th>from</th>\n",
              "      <th>to</th>\n",
              "      <th>amount</th>\n",
              "    </tr>\n",
              "  </thead>\n",
              "  <tbody>\n",
              "    <tr>\n",
              "      <th>0</th>\n",
              "      <td>0x905cdb49db7b8804830017e3f3d4a6d80f30c15f2ef8...</td>\n",
              "      <td>0xeca19b1a87442b0c25801b809bf567a6ca87b1da</td>\n",
              "      <td>0xee889cdf628e138f15538304fd72e2af56cbe4b6</td>\n",
              "      <td>10</td>\n",
              "    </tr>\n",
              "    <tr>\n",
              "      <th>1</th>\n",
              "      <td>0xde88b7bbe2d12527a53d3ce4c0f9c980da5683fd1f5e...</td>\n",
              "      <td>0xeca19b1a87442b0c25801b809bf567a6ca87b1da</td>\n",
              "      <td>0x4b41947e269464408bbd9dce7346a7e07d522b12</td>\n",
              "      <td>5</td>\n",
              "    </tr>\n",
              "    <tr>\n",
              "      <th>2</th>\n",
              "      <td>0x455354c462770b8dd8a72952afaa61cd57b99d113436...</td>\n",
              "      <td>0xeca19b1a87442b0c25801b809bf567a6ca87b1da</td>\n",
              "      <td>0x873ce5c27fe1a679b724e25b5a856282a93b137f</td>\n",
              "      <td>5</td>\n",
              "    </tr>\n",
              "  </tbody>\n",
              "</table>\n",
              "</div>"
            ],
            "text/plain": [
              "                                             TX Hash  ... amount\n",
              "0  0x905cdb49db7b8804830017e3f3d4a6d80f30c15f2ef8...  ...     10\n",
              "1  0xde88b7bbe2d12527a53d3ce4c0f9c980da5683fd1f5e...  ...      5\n",
              "2  0x455354c462770b8dd8a72952afaa61cd57b99d113436...  ...      5\n",
              "\n",
              "[3 rows x 4 columns]"
            ]
          },
          "metadata": {
            "tags": []
          },
          "execution_count": 28
        }
      ]
    },
    {
      "cell_type": "code",
      "metadata": {
        "id": "Dg1qoNfiVAQs"
      },
      "source": [
        ""
      ],
      "execution_count": null,
      "outputs": []
    }
  ]
}